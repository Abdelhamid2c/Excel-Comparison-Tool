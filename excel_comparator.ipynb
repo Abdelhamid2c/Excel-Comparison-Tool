{
 "cells": [
  {
   "cell_type": "code",
   "execution_count": 2,
   "id": "ef23a7ea-a475-449c-ad67-0b3518589b31",
   "metadata": {},
   "outputs": [],
   "source": [
    "from openpyxl import load_workbook\n",
    "from openpyxl.styles import PatternFill\n",
    "from openpyxl.comments import Comment\n",
    "import pandas as pd"
   ]
  },
  {
   "cell_type": "code",
   "execution_count": 10,
   "id": "0e973add-a07e-46bf-b7a5-878f9415fc90",
   "metadata": {},
   "outputs": [],
   "source": [
    "def add_comment(old_value, new_value):\n",
    "    old_text = \"(None)\" if pd.isna(old_value) else str(old_value)\n",
    "    new_text = \"(None)\" if pd.isna(new_value) else str(new_value)\n",
    "    comment_text = f\"Previous: {old_text}\\nNew: {new_text}\"\n",
    "    # print(comment_text+'\\n')\n",
    "    cell.comment = Comment(comment_text, \"AutoComparer\")"
   ]
  },
  {
   "cell_type": "code",
   "execution_count": 76,
   "id": "5df0a711-ed26-4bf1-ad23-1950cbe0786e",
   "metadata": {},
   "outputs": [],
   "source": [
    "def compare_excels(ref_path, new_path, output_path):\n",
    "    try :\n",
    "        df_old_version = pd.read_excel(ref_path)\n",
    "        df_new_version = pd.read_excel(new_path)\n",
    "\n",
    "        if df_old_version.shape != df_new_version.shape:\n",
    "            print(\"Error: DataFrames have different shapes. Cannot compare.\")\n",
    "            return \n",
    "            \n",
    "        wb_old = load_workbook(ref_path)\n",
    "        ws_old = wb_old.active\n",
    "\n",
    "        red_fill = PatternFill(start_color='FFFF0000', end_color='FFFF0000', fill_type='solid')\n",
    "\n",
    "        for row_index in range(0, df_old_version.shape[0]):\n",
    "            for col_index in range(1, df_old_version.shape[1]):\n",
    "                old_value = df_old_version.iloc[row_index,col_index]\n",
    "                ref_value = df_new_version.iloc[row_index,col_index]\n",
    "                # print(f'old value {old_value} and new value {ref_value}')\n",
    "        \n",
    "                if pd.isna(old_value) and pd.isna(ref_value):                \n",
    "                    continue\n",
    "                elif old_value != ref_value or (pd.isna(old_value) or pd.isna(ref_value)):\n",
    "                    print(f'old value {old_value} ,new value {ref_value}')\n",
    "                    cell = ws_old.cell(row=row_index + 2, column=col_index+1)\n",
    "                    cell.fill = red_fill\n",
    "                    add_comment(old_value, ref_value)\n",
    "                    \n",
    "        wb_old.save(output_path)\n",
    "        print(f\"Comparison complete. Differences highlighted in '{output_path}'\")\n",
    "    except FileNotFoundError:\n",
    "        print(\"Error: One or both of the Excel files were not found.\")\n",
    "    except Exception as e:\n",
    "        print(f\"An error occurred: {e}\")        "
   ]
  },
  {
   "cell_type": "code",
   "execution_count": 77,
   "id": "8547ea22-22d8-4d8c-b343-4f77dba50879",
   "metadata": {},
   "outputs": [],
   "source": [
    "ref_path = 'yazaki_data/2D0068747P-F0000_MaxWireList_ref.xlsx' \n",
    "new_path = 'yazaki_data/2D0068747P-F0000_MaxWireList.xlsx'\n",
    "output_path = 'yazaki_data/output.xlsx'"
   ]
  },
  {
   "cell_type": "code",
   "execution_count": 78,
   "id": "112d8ef7-f15c-4b5e-8621-c85aa4264fe3",
   "metadata": {},
   "outputs": [
    {
     "name": "stdout",
     "output_type": "stream",
     "text": [
      "old value Single Wire ,new value Twisted Wire\n",
      "Previous: Single Wire\n",
      "New: Twisted Wire\n",
      "\n",
      "old value W0001 ,new value W0000000\n",
      "Previous: W0001\n",
      "New: W0000000\n",
      "\n",
      "old value X ,new value nan\n",
      "Previous: X\n",
      "New: (None)\n",
      "\n",
      "old value X ,new value nan\n",
      "Previous: X\n",
      "New: (None)\n",
      "\n",
      "old value X ,new value nan\n",
      "Previous: X\n",
      "New: (None)\n",
      "\n",
      "old value X ,new value nan\n",
      "Previous: X\n",
      "New: (None)\n",
      "\n",
      "old value nan ,new value 99.0\n",
      "Previous: (None)\n",
      "New: 99.0\n",
      "\n",
      "Comparison complete. Differences highlighted in 'yazaki_data/output.xlsx'\n"
     ]
    }
   ],
   "source": [
    "compare_excels(ref_path, new_path, output_path)"
   ]
  },
  {
   "cell_type": "code",
   "execution_count": null,
   "id": "7b6ea8d2-3efe-4355-9cb2-e422a9477eeb",
   "metadata": {},
   "outputs": [],
   "source": []
  }
 ],
 "metadata": {
  "kernelspec": {
   "display_name": "Python 3 (ipykernel)",
   "language": "python",
   "name": "python3"
  },
  "language_info": {
   "codemirror_mode": {
    "name": "ipython",
    "version": 3
   },
   "file_extension": ".py",
   "mimetype": "text/x-python",
   "name": "python",
   "nbconvert_exporter": "python",
   "pygments_lexer": "ipython3",
   "version": "3.13.2"
  }
 },
 "nbformat": 4,
 "nbformat_minor": 5
}
